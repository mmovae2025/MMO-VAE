{
 "cells": [
  {
   "cell_type": "markdown",
   "id": "08a6a2c1-4793-4f31-af4e-23729ded10dc",
   "metadata": {},
   "source": [
    "### Zinc15\n",
    "- Bcl2 Family inhibitor dataset by \"T. Sterling, J.J. Irwin, ZINC 15–ligand discovery for everyone, J. Chem. Inf. Model. 55 (11) (2015) 2324–2337.\"\n",
    "\n",
    "### Chembl\n",
    "- GSK3b, JNK3 inhibitor dataset by \"Multi-Objective Molecule Generation using Interpretable Substructures\"\n",
    "- link: [https://proceedings.mlr.press/v119/jin20b/jin20b.pdf](https://proceedings.mlr.press/v119/jin20b/jin20b.pdf)\n",
    "\n"
   ]
  },
  {
   "cell_type": "code",
   "execution_count": 5,
   "id": "5e114c57-f350-4e74-8482-f8b492f402bf",
   "metadata": {},
   "outputs": [],
   "source": [
    "import selfies as sf\n",
    "import numpy as np\n",
    "import pandas as pd\n",
    "import string\n",
    "import os\n",
    "import tqdm\n",
    "from transformers import AutoTokenizer, AutoModel\n",
    "import re\n",
    "from rdkit import Chem"
   ]
  },
  {
   "cell_type": "code",
   "execution_count": 6,
   "id": "f3a6abd0-6cd9-4f51-aed1-5723729b5a8f",
   "metadata": {},
   "outputs": [
    {
     "name": "stderr",
     "output_type": "stream",
     "text": [
      "1000it [00:00, 2232.39it/s]\n"
     ]
    }
   ],
   "source": [
    "from utils import normalize_SMILES\n",
    "\n",
    "data_path = './data/zinc15_smiles.csv' # put your smiles data \n",
    "df = pd.read_csv(data_path)\n",
    "smiles = df['smiles'].to_numpy()\n",
    "\n",
    "# SMILES 데이터 정규화\n",
    "norm_smiles = [normalize_SMILES(s) for s in smiles]\n",
    "df['smiles'] = norm_smiles\n",
    "\n",
    "sf_list = []\n",
    "smi_list = []\n",
    "for idx, smi in tqdm.tqdm(enumerate(smiles)):\n",
    "    encode_sf = sf.encoder(smi)\n",
    "    sf_list.append(encode_sf)\n",
    "\n",
    "df.insert(2, 'selfies', sf_list)\n",
    "df.to_csv('./data/zinc15_sample_test.csv', index=False)"
   ]
  },
  {
   "cell_type": "markdown",
   "id": "6ee501a5-c9c4-478c-968a-3bbea0d28421",
   "metadata": {},
   "source": [
    "# Make Token Dict"
   ]
  },
  {
   "cell_type": "code",
   "execution_count": 14,
   "id": "206e34ac-6981-412e-b69b-8859bf99737c",
   "metadata": {},
   "outputs": [
    {
     "name": "stdout",
     "output_type": "stream",
     "text": [
      "Max Len in Dataset :  123\n"
     ]
    },
    {
     "name": "stderr",
     "output_type": "stream",
     "text": [
      "100%|█████████████████████████████████████████████████████████████████████████████████████████| 1000/1000 [00:00<00:00, 20381.97it/s]"
     ]
    },
    {
     "name": "stdout",
     "output_type": "stream",
     "text": [
      "['[=Branch1]', '[#Branch1]', '[#Branch2]', '[=Branch2]', '[Branch1]', '[Branch2]', '[=Ring1]', '[=Ring2]', '[Ring1]', '[Ring2]', '[=N+1]', '[O-1]', '[N+1]', '[NH1]', '[=C]', '[=O]', '[=N]', '[#C]', '[Cl]', '[Br]', '[=S]', '[=P]', '[C]', '[N]', '[S]', '[O]', '[P]', '[F]']\n"
     ]
    },
    {
     "name": "stderr",
     "output_type": "stream",
     "text": [
      "\n"
     ]
    }
   ],
   "source": [
    "def selfies_voca(selfies_list):\n",
    "    selfies_list = list(selfies_list)\n",
    "    max_len = max(sf.len_selfies(s) for s in selfies_list)\n",
    "\n",
    "    print(\"Max Len in Dataset : \", max_len)\n",
    "    dict_voca = {}\n",
    "    for src in tqdm.tqdm(selfies_list):\n",
    "        alphabet = sf.get_alphabet_from_selfies([src])\n",
    "        for token in alphabet:\n",
    "            if token in dict_voca:\n",
    "                dict_voca[token] +=1\n",
    "            else:\n",
    "                dict_voca[token] = 1\n",
    "\n",
    "    sorted_dict_voca = sorted(dict_voca.items(), key=lambda x: x[1], reverse=True)\n",
    "    voca = [ key for key, value in sorted_dict_voca ]\n",
    "    return sorted_dict_voca, voca, max_len\n",
    "\n",
    "def save_tokens(vocabs, filename=None):\n",
    "    # 파일 열기\n",
    "    with open(filename, 'w') as file:\n",
    "        for token in vocabs:\n",
    "            file.write(f\"{token}\\n\")\n",
    "\n",
    "\n",
    "data_path = './data/zinc15_sample_test.csv'\n",
    "df = pd.read_csv(data_path)\n",
    "selfies = df['selfies'].to_numpy()\n",
    "\n",
    "sorted_dict_voca, voca, max_len = selfies_voca(selfies)\n",
    "voca = sorted(voca, key=lambda x: len(x), reverse=True)\n",
    "save_tokens(voca, filename=\"./data/zinc15_selfies_tokens_test.txt\")\n",
    "print(voca)"
   ]
  },
  {
   "cell_type": "code",
   "execution_count": null,
   "id": "1bd46d77-e045-45f8-b21c-51f8e8ac477d",
   "metadata": {},
   "outputs": [],
   "source": []
  }
 ],
 "metadata": {
  "kernelspec": {
   "display_name": "Python (denovo_vae)",
   "language": "python",
   "name": "denovo_vae"
  },
  "language_info": {
   "codemirror_mode": {
    "name": "ipython",
    "version": 3
   },
   "file_extension": ".py",
   "mimetype": "text/x-python",
   "name": "python",
   "nbconvert_exporter": "python",
   "pygments_lexer": "ipython3",
   "version": "3.8.19"
  }
 },
 "nbformat": 4,
 "nbformat_minor": 5
}
